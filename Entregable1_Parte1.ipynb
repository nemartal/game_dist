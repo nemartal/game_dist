{
  "nbformat": 4,
  "nbformat_minor": 0,
  "metadata": {
    "colab": {
      "name": "Entregable1 Parte1.ipynb",
      "provenance": [],
      "authorship_tag": "ABX9TyMKBqC3/hNg7es8ebgawMOu",
      "include_colab_link": true
    },
    "kernelspec": {
      "name": "python3",
      "display_name": "Python 3"
    },
    "language_info": {
      "name": "python"
    }
  },
  "cells": [
    {
      "cell_type": "markdown",
      "metadata": {
        "id": "view-in-github",
        "colab_type": "text"
      },
      "source": [
        "<a href=\"https://colab.research.google.com/github/nemartal/game_dist/blob/master/Entregable1_Parte1.ipynb\" target=\"_parent\"><img src=\"https://colab.research.google.com/assets/colab-badge.svg\" alt=\"Open In Colab\"/></a>"
      ]
    },
    {
      "cell_type": "code",
      "metadata": {
        "id": "1AKS601KmCVB"
      },
      "source": [
        "import numpy as np\n",
        "import pandas as pd"
      ],
      "execution_count": 1,
      "outputs": []
    },
    {
      "cell_type": "code",
      "metadata": {
        "colab": {
          "base_uri": "https://localhost:8080/",
          "height": 204
        },
        "id": "EODEquh3mhUU",
        "outputId": "c5ef85eb-3645-48c7-c0d4-7814fe808aab"
      },
      "source": [
        "df_train = pd.read_csv('train.csv')\n",
        "df_train.head()"
      ],
      "execution_count": 6,
      "outputs": [
        {
          "output_type": "execute_result",
          "data": {
            "text/html": [
              "<div>\n",
              "<style scoped>\n",
              "    .dataframe tbody tr th:only-of-type {\n",
              "        vertical-align: middle;\n",
              "    }\n",
              "\n",
              "    .dataframe tbody tr th {\n",
              "        vertical-align: top;\n",
              "    }\n",
              "\n",
              "    .dataframe thead th {\n",
              "        text-align: right;\n",
              "    }\n",
              "</style>\n",
              "<table border=\"1\" class=\"dataframe\">\n",
              "  <thead>\n",
              "    <tr style=\"text-align: right;\">\n",
              "      <th></th>\n",
              "      <th>SL</th>\n",
              "      <th>EEG</th>\n",
              "      <th>BP</th>\n",
              "      <th>HR</th>\n",
              "      <th>CIRCULATION</th>\n",
              "      <th>ACTIVITY</th>\n",
              "    </tr>\n",
              "  </thead>\n",
              "  <tbody>\n",
              "    <tr>\n",
              "      <th>0</th>\n",
              "      <td>4019.64</td>\n",
              "      <td>-1600.00</td>\n",
              "      <td>13</td>\n",
              "      <td>79</td>\n",
              "      <td>317</td>\n",
              "      <td>3</td>\n",
              "    </tr>\n",
              "    <tr>\n",
              "      <th>1</th>\n",
              "      <td>2191.03</td>\n",
              "      <td>-1146.08</td>\n",
              "      <td>20</td>\n",
              "      <td>54</td>\n",
              "      <td>165</td>\n",
              "      <td>2</td>\n",
              "    </tr>\n",
              "    <tr>\n",
              "      <th>2</th>\n",
              "      <td>2787.99</td>\n",
              "      <td>-1263.38</td>\n",
              "      <td>46</td>\n",
              "      <td>67</td>\n",
              "      <td>224</td>\n",
              "      <td>2</td>\n",
              "    </tr>\n",
              "    <tr>\n",
              "      <th>3</th>\n",
              "      <td>9545.98</td>\n",
              "      <td>-2848.93</td>\n",
              "      <td>26</td>\n",
              "      <td>138</td>\n",
              "      <td>554</td>\n",
              "      <td>4</td>\n",
              "    </tr>\n",
              "    <tr>\n",
              "      <th>4</th>\n",
              "      <td>14148.80</td>\n",
              "      <td>-2381.15</td>\n",
              "      <td>85</td>\n",
              "      <td>120</td>\n",
              "      <td>809</td>\n",
              "      <td>4</td>\n",
              "    </tr>\n",
              "  </tbody>\n",
              "</table>\n",
              "</div>"
            ],
            "text/plain": [
              "         SL      EEG  BP   HR  CIRCULATION  ACTIVITY\n",
              "0   4019.64 -1600.00  13   79          317         3\n",
              "1   2191.03 -1146.08  20   54          165         2\n",
              "2   2787.99 -1263.38  46   67          224         2\n",
              "3   9545.98 -2848.93  26  138          554         4\n",
              "4  14148.80 -2381.15  85  120          809         4"
            ]
          },
          "metadata": {
            "tags": []
          },
          "execution_count": 6
        }
      ]
    },
    {
      "cell_type": "markdown",
      "metadata": {
        "id": "8tL6JaTIoAg2"
      },
      "source": [
        "EEG - Electrocardiograma\n",
        "\n",
        "BP - Presion del pulso (Blood Presure)\n"
      ]
    },
    {
      "cell_type": "code",
      "metadata": {
        "colab": {
          "base_uri": "https://localhost:8080/",
          "height": 204
        },
        "id": "F3gCoLjvmbvI",
        "outputId": "8dbb1ea3-a19b-47b4-9130-2ce6aa6ba25e"
      },
      "source": [
        "df_test = pd.read_csv('test.csv')\n",
        "df_test.head()"
      ],
      "execution_count": 7,
      "outputs": [
        {
          "output_type": "execute_result",
          "data": {
            "text/html": [
              "<div>\n",
              "<style scoped>\n",
              "    .dataframe tbody tr th:only-of-type {\n",
              "        vertical-align: middle;\n",
              "    }\n",
              "\n",
              "    .dataframe tbody tr th {\n",
              "        vertical-align: top;\n",
              "    }\n",
              "\n",
              "    .dataframe thead th {\n",
              "        text-align: right;\n",
              "    }\n",
              "</style>\n",
              "<table border=\"1\" class=\"dataframe\">\n",
              "  <thead>\n",
              "    <tr style=\"text-align: right;\">\n",
              "      <th></th>\n",
              "      <th>SL</th>\n",
              "      <th>EEG</th>\n",
              "      <th>BP</th>\n",
              "      <th>HR</th>\n",
              "      <th>CIRCULATION</th>\n",
              "    </tr>\n",
              "  </thead>\n",
              "  <tbody>\n",
              "    <tr>\n",
              "      <th>0</th>\n",
              "      <td>28146.00</td>\n",
              "      <td>-3670.00</td>\n",
              "      <td>29</td>\n",
              "      <td>194</td>\n",
              "      <td>1521</td>\n",
              "    </tr>\n",
              "    <tr>\n",
              "      <th>1</th>\n",
              "      <td>12064.90</td>\n",
              "      <td>-1796.28</td>\n",
              "      <td>8</td>\n",
              "      <td>105</td>\n",
              "      <td>765</td>\n",
              "    </tr>\n",
              "    <tr>\n",
              "      <th>2</th>\n",
              "      <td>3041.75</td>\n",
              "      <td>-1220.95</td>\n",
              "      <td>35</td>\n",
              "      <td>71</td>\n",
              "      <td>249</td>\n",
              "    </tr>\n",
              "    <tr>\n",
              "      <th>3</th>\n",
              "      <td>9918.52</td>\n",
              "      <td>-2570.00</td>\n",
              "      <td>44</td>\n",
              "      <td>154</td>\n",
              "      <td>587</td>\n",
              "    </tr>\n",
              "    <tr>\n",
              "      <th>4</th>\n",
              "      <td>26464.00</td>\n",
              "      <td>-3133.00</td>\n",
              "      <td>34</td>\n",
              "      <td>161</td>\n",
              "      <td>1523</td>\n",
              "    </tr>\n",
              "  </tbody>\n",
              "</table>\n",
              "</div>"
            ],
            "text/plain": [
              "         SL      EEG  BP   HR  CIRCULATION\n",
              "0  28146.00 -3670.00  29  194         1521\n",
              "1  12064.90 -1796.28   8  105          765\n",
              "2   3041.75 -1220.95  35   71          249\n",
              "3   9918.52 -2570.00  44  154          587\n",
              "4  26464.00 -3133.00  34  161         1523"
            ]
          },
          "metadata": {
            "tags": []
          },
          "execution_count": 7
        }
      ]
    },
    {
      "cell_type": "markdown",
      "metadata": {
        "id": "F8cSiNA1o9uk"
      },
      "source": [
        "Los diferentes descriptores del dataset"
      ]
    },
    {
      "cell_type": "code",
      "metadata": {
        "colab": {
          "base_uri": "https://localhost:8080/"
        },
        "id": "sH6tlCybo1Py",
        "outputId": "1add4c79-2543-44f7-c180-3e8d68503d95"
      },
      "source": [
        "print (df_train.info())"
      ],
      "execution_count": 8,
      "outputs": [
        {
          "output_type": "stream",
          "text": [
            "<class 'pandas.core.frame.DataFrame'>\n",
            "RangeIndex: 11999 entries, 0 to 11998\n",
            "Data columns (total 6 columns):\n",
            " #   Column       Non-Null Count  Dtype  \n",
            "---  ------       --------------  -----  \n",
            " 0   SL           11999 non-null  float64\n",
            " 1   EEG          11999 non-null  float64\n",
            " 2   BP           11999 non-null  int64  \n",
            " 3   HR           11999 non-null  int64  \n",
            " 4   CIRCULATION  11999 non-null  int64  \n",
            " 5   ACTIVITY     11999 non-null  int64  \n",
            "dtypes: float64(2), int64(4)\n",
            "memory usage: 562.6 KB\n",
            "None\n"
          ],
          "name": "stdout"
        }
      ]
    },
    {
      "cell_type": "markdown",
      "metadata": {
        "id": "RmyQxh6UpCO6"
      },
      "source": [
        "Sabiendo que la presión del pulso se tiene que mover entre 100 y 180, ¿qué datos quedan fuera de este rango?\n"
      ]
    },
    {
      "cell_type": "code",
      "metadata": {
        "colab": {
          "base_uri": "https://localhost:8080/",
          "height": 419
        },
        "id": "-FNdE6OtpCta",
        "outputId": "e9f40283-0446-45ca-ba23-f4d0aeb49513"
      },
      "source": [
        "ab = df_train[(df_train['BP']<100)]\n",
        "ab[0:]"
      ],
      "execution_count": 14,
      "outputs": [
        {
          "output_type": "execute_result",
          "data": {
            "text/html": [
              "<div>\n",
              "<style scoped>\n",
              "    .dataframe tbody tr th:only-of-type {\n",
              "        vertical-align: middle;\n",
              "    }\n",
              "\n",
              "    .dataframe tbody tr th {\n",
              "        vertical-align: top;\n",
              "    }\n",
              "\n",
              "    .dataframe thead th {\n",
              "        text-align: right;\n",
              "    }\n",
              "</style>\n",
              "<table border=\"1\" class=\"dataframe\">\n",
              "  <thead>\n",
              "    <tr style=\"text-align: right;\">\n",
              "      <th></th>\n",
              "      <th>SL</th>\n",
              "      <th>EEG</th>\n",
              "      <th>BP</th>\n",
              "      <th>HR</th>\n",
              "      <th>CIRCULATION</th>\n",
              "      <th>ACTIVITY</th>\n",
              "    </tr>\n",
              "  </thead>\n",
              "  <tbody>\n",
              "    <tr>\n",
              "      <th>0</th>\n",
              "      <td>4019.64</td>\n",
              "      <td>-1600.00</td>\n",
              "      <td>13</td>\n",
              "      <td>79</td>\n",
              "      <td>317</td>\n",
              "      <td>3</td>\n",
              "    </tr>\n",
              "    <tr>\n",
              "      <th>1</th>\n",
              "      <td>2191.03</td>\n",
              "      <td>-1146.08</td>\n",
              "      <td>20</td>\n",
              "      <td>54</td>\n",
              "      <td>165</td>\n",
              "      <td>2</td>\n",
              "    </tr>\n",
              "    <tr>\n",
              "      <th>2</th>\n",
              "      <td>2787.99</td>\n",
              "      <td>-1263.38</td>\n",
              "      <td>46</td>\n",
              "      <td>67</td>\n",
              "      <td>224</td>\n",
              "      <td>2</td>\n",
              "    </tr>\n",
              "    <tr>\n",
              "      <th>3</th>\n",
              "      <td>9545.98</td>\n",
              "      <td>-2848.93</td>\n",
              "      <td>26</td>\n",
              "      <td>138</td>\n",
              "      <td>554</td>\n",
              "      <td>4</td>\n",
              "    </tr>\n",
              "    <tr>\n",
              "      <th>4</th>\n",
              "      <td>14148.80</td>\n",
              "      <td>-2381.15</td>\n",
              "      <td>85</td>\n",
              "      <td>120</td>\n",
              "      <td>809</td>\n",
              "      <td>4</td>\n",
              "    </tr>\n",
              "    <tr>\n",
              "      <th>...</th>\n",
              "      <td>...</td>\n",
              "      <td>...</td>\n",
              "      <td>...</td>\n",
              "      <td>...</td>\n",
              "      <td>...</td>\n",
              "      <td>...</td>\n",
              "    </tr>\n",
              "    <tr>\n",
              "      <th>11994</th>\n",
              "      <td>52550.30</td>\n",
              "      <td>-2970.00</td>\n",
              "      <td>31</td>\n",
              "      <td>188</td>\n",
              "      <td>2599</td>\n",
              "      <td>3</td>\n",
              "    </tr>\n",
              "    <tr>\n",
              "      <th>11995</th>\n",
              "      <td>26761.00</td>\n",
              "      <td>-2776.53</td>\n",
              "      <td>87</td>\n",
              "      <td>156</td>\n",
              "      <td>1521</td>\n",
              "      <td>4</td>\n",
              "    </tr>\n",
              "    <tr>\n",
              "      <th>11996</th>\n",
              "      <td>36737.00</td>\n",
              "      <td>555.00</td>\n",
              "      <td>60</td>\n",
              "      <td>234</td>\n",
              "      <td>1581</td>\n",
              "      <td>2</td>\n",
              "    </tr>\n",
              "    <tr>\n",
              "      <th>11997</th>\n",
              "      <td>39610.60</td>\n",
              "      <td>-3110.00</td>\n",
              "      <td>17</td>\n",
              "      <td>196</td>\n",
              "      <td>1885</td>\n",
              "      <td>3</td>\n",
              "    </tr>\n",
              "    <tr>\n",
              "      <th>11998</th>\n",
              "      <td>280014.00</td>\n",
              "      <td>-9684.44</td>\n",
              "      <td>68</td>\n",
              "      <td>468</td>\n",
              "      <td>9276</td>\n",
              "      <td>5</td>\n",
              "    </tr>\n",
              "  </tbody>\n",
              "</table>\n",
              "<p>10389 rows × 6 columns</p>\n",
              "</div>"
            ],
            "text/plain": [
              "              SL      EEG  BP   HR  CIRCULATION  ACTIVITY\n",
              "0        4019.64 -1600.00  13   79          317         3\n",
              "1        2191.03 -1146.08  20   54          165         2\n",
              "2        2787.99 -1263.38  46   67          224         2\n",
              "3        9545.98 -2848.93  26  138          554         4\n",
              "4       14148.80 -2381.15  85  120          809         4\n",
              "...          ...      ...  ..  ...          ...       ...\n",
              "11994   52550.30 -2970.00  31  188         2599         3\n",
              "11995   26761.00 -2776.53  87  156         1521         4\n",
              "11996   36737.00   555.00  60  234         1581         2\n",
              "11997   39610.60 -3110.00  17  196         1885         3\n",
              "11998  280014.00 -9684.44  68  468         9276         5\n",
              "\n",
              "[10389 rows x 6 columns]"
            ]
          },
          "metadata": {
            "tags": []
          },
          "execution_count": 14
        }
      ]
    },
    {
      "cell_type": "code",
      "metadata": {
        "colab": {
          "base_uri": "https://localhost:8080/",
          "height": 419
        },
        "id": "VWYVIcqoqrVO",
        "outputId": "74a94c44-ced6-4a3c-a2a6-d751d9e8e149"
      },
      "source": [
        "ac = df_train[(df_train['BP']>180)]\n",
        "ac[0:]"
      ],
      "execution_count": 13,
      "outputs": [
        {
          "output_type": "execute_result",
          "data": {
            "text/html": [
              "<div>\n",
              "<style scoped>\n",
              "    .dataframe tbody tr th:only-of-type {\n",
              "        vertical-align: middle;\n",
              "    }\n",
              "\n",
              "    .dataframe tbody tr th {\n",
              "        vertical-align: top;\n",
              "    }\n",
              "\n",
              "    .dataframe thead th {\n",
              "        text-align: right;\n",
              "    }\n",
              "</style>\n",
              "<table border=\"1\" class=\"dataframe\">\n",
              "  <thead>\n",
              "    <tr style=\"text-align: right;\">\n",
              "      <th></th>\n",
              "      <th>SL</th>\n",
              "      <th>EEG</th>\n",
              "      <th>BP</th>\n",
              "      <th>HR</th>\n",
              "      <th>CIRCULATION</th>\n",
              "      <th>ACTIVITY</th>\n",
              "    </tr>\n",
              "  </thead>\n",
              "  <tbody>\n",
              "    <tr>\n",
              "      <th>28</th>\n",
              "      <td>280276.0</td>\n",
              "      <td>-13215.00</td>\n",
              "      <td>264</td>\n",
              "      <td>465</td>\n",
              "      <td>8741</td>\n",
              "      <td>0</td>\n",
              "    </tr>\n",
              "    <tr>\n",
              "      <th>42</th>\n",
              "      <td>291719.0</td>\n",
              "      <td>-11688.00</td>\n",
              "      <td>242</td>\n",
              "      <td>487</td>\n",
              "      <td>10978</td>\n",
              "      <td>0</td>\n",
              "    </tr>\n",
              "    <tr>\n",
              "      <th>144</th>\n",
              "      <td>190854.0</td>\n",
              "      <td>-8983.00</td>\n",
              "      <td>252</td>\n",
              "      <td>350</td>\n",
              "      <td>7945</td>\n",
              "      <td>0</td>\n",
              "    </tr>\n",
              "    <tr>\n",
              "      <th>160</th>\n",
              "      <td>324568.0</td>\n",
              "      <td>-13759.00</td>\n",
              "      <td>323</td>\n",
              "      <td>482</td>\n",
              "      <td>10983</td>\n",
              "      <td>0</td>\n",
              "    </tr>\n",
              "    <tr>\n",
              "      <th>229</th>\n",
              "      <td>128042.0</td>\n",
              "      <td>-8414.00</td>\n",
              "      <td>251</td>\n",
              "      <td>325</td>\n",
              "      <td>5739</td>\n",
              "      <td>0</td>\n",
              "    </tr>\n",
              "    <tr>\n",
              "      <th>...</th>\n",
              "      <td>...</td>\n",
              "      <td>...</td>\n",
              "      <td>...</td>\n",
              "      <td>...</td>\n",
              "      <td>...</td>\n",
              "      <td>...</td>\n",
              "    </tr>\n",
              "    <tr>\n",
              "      <th>11814</th>\n",
              "      <td>55384.0</td>\n",
              "      <td>-6353.00</td>\n",
              "      <td>349</td>\n",
              "      <td>273</td>\n",
              "      <td>2603</td>\n",
              "      <td>0</td>\n",
              "    </tr>\n",
              "    <tr>\n",
              "      <th>11821</th>\n",
              "      <td>144996.0</td>\n",
              "      <td>-7575.88</td>\n",
              "      <td>193</td>\n",
              "      <td>362</td>\n",
              "      <td>5847</td>\n",
              "      <td>3</td>\n",
              "    </tr>\n",
              "    <tr>\n",
              "      <th>11859</th>\n",
              "      <td>126304.0</td>\n",
              "      <td>-7734.00</td>\n",
              "      <td>210</td>\n",
              "      <td>282</td>\n",
              "      <td>4620</td>\n",
              "      <td>0</td>\n",
              "    </tr>\n",
              "    <tr>\n",
              "      <th>11889</th>\n",
              "      <td>55193.0</td>\n",
              "      <td>-5465.00</td>\n",
              "      <td>182</td>\n",
              "      <td>193</td>\n",
              "      <td>2810</td>\n",
              "      <td>0</td>\n",
              "    </tr>\n",
              "    <tr>\n",
              "      <th>11984</th>\n",
              "      <td>66971.0</td>\n",
              "      <td>-7173.00</td>\n",
              "      <td>203</td>\n",
              "      <td>253</td>\n",
              "      <td>3063</td>\n",
              "      <td>0</td>\n",
              "    </tr>\n",
              "  </tbody>\n",
              "</table>\n",
              "<p>301 rows × 6 columns</p>\n",
              "</div>"
            ],
            "text/plain": [
              "             SL       EEG   BP   HR  CIRCULATION  ACTIVITY\n",
              "28     280276.0 -13215.00  264  465         8741         0\n",
              "42     291719.0 -11688.00  242  487        10978         0\n",
              "144    190854.0  -8983.00  252  350         7945         0\n",
              "160    324568.0 -13759.00  323  482        10983         0\n",
              "229    128042.0  -8414.00  251  325         5739         0\n",
              "...         ...       ...  ...  ...          ...       ...\n",
              "11814   55384.0  -6353.00  349  273         2603         0\n",
              "11821  144996.0  -7575.88  193  362         5847         3\n",
              "11859  126304.0  -7734.00  210  282         4620         0\n",
              "11889   55193.0  -5465.00  182  193         2810         0\n",
              "11984   66971.0  -7173.00  203  253         3063         0\n",
              "\n",
              "[301 rows x 6 columns]"
            ]
          },
          "metadata": {
            "tags": []
          },
          "execution_count": 13
        }
      ]
    },
    {
      "cell_type": "markdown",
      "metadata": {
        "id": "ETkH_rXjrRQy"
      },
      "source": [
        "La frecuencia cardiaca tiene que superar los 75 latidos por minuto para poder estar vivo. ¿Cuantos datos cumplen este valor?"
      ]
    },
    {
      "cell_type": "code",
      "metadata": {
        "colab": {
          "base_uri": "https://localhost:8080/",
          "height": 419
        },
        "id": "2MN8SZ3NrRDZ",
        "outputId": "ef54ec09-6493-4af0-ad56-a6bc07d8f226"
      },
      "source": [
        "ab = df_train[(df_train['HR']>75)]\n",
        "ab[0:]"
      ],
      "execution_count": 15,
      "outputs": [
        {
          "output_type": "execute_result",
          "data": {
            "text/html": [
              "<div>\n",
              "<style scoped>\n",
              "    .dataframe tbody tr th:only-of-type {\n",
              "        vertical-align: middle;\n",
              "    }\n",
              "\n",
              "    .dataframe tbody tr th {\n",
              "        vertical-align: top;\n",
              "    }\n",
              "\n",
              "    .dataframe thead th {\n",
              "        text-align: right;\n",
              "    }\n",
              "</style>\n",
              "<table border=\"1\" class=\"dataframe\">\n",
              "  <thead>\n",
              "    <tr style=\"text-align: right;\">\n",
              "      <th></th>\n",
              "      <th>SL</th>\n",
              "      <th>EEG</th>\n",
              "      <th>BP</th>\n",
              "      <th>HR</th>\n",
              "      <th>CIRCULATION</th>\n",
              "      <th>ACTIVITY</th>\n",
              "    </tr>\n",
              "  </thead>\n",
              "  <tbody>\n",
              "    <tr>\n",
              "      <th>0</th>\n",
              "      <td>4019.64</td>\n",
              "      <td>-1600.00</td>\n",
              "      <td>13</td>\n",
              "      <td>79</td>\n",
              "      <td>317</td>\n",
              "      <td>3</td>\n",
              "    </tr>\n",
              "    <tr>\n",
              "      <th>3</th>\n",
              "      <td>9545.98</td>\n",
              "      <td>-2848.93</td>\n",
              "      <td>26</td>\n",
              "      <td>138</td>\n",
              "      <td>554</td>\n",
              "      <td>4</td>\n",
              "    </tr>\n",
              "    <tr>\n",
              "      <th>4</th>\n",
              "      <td>14148.80</td>\n",
              "      <td>-2381.15</td>\n",
              "      <td>85</td>\n",
              "      <td>120</td>\n",
              "      <td>809</td>\n",
              "      <td>4</td>\n",
              "    </tr>\n",
              "    <tr>\n",
              "      <th>5</th>\n",
              "      <td>7336.79</td>\n",
              "      <td>-1699.80</td>\n",
              "      <td>22</td>\n",
              "      <td>95</td>\n",
              "      <td>427</td>\n",
              "      <td>5</td>\n",
              "    </tr>\n",
              "    <tr>\n",
              "      <th>6</th>\n",
              "      <td>24949.90</td>\n",
              "      <td>-3198.06</td>\n",
              "      <td>35</td>\n",
              "      <td>157</td>\n",
              "      <td>1519</td>\n",
              "      <td>3</td>\n",
              "    </tr>\n",
              "    <tr>\n",
              "      <th>...</th>\n",
              "      <td>...</td>\n",
              "      <td>...</td>\n",
              "      <td>...</td>\n",
              "      <td>...</td>\n",
              "      <td>...</td>\n",
              "      <td>...</td>\n",
              "    </tr>\n",
              "    <tr>\n",
              "      <th>11994</th>\n",
              "      <td>52550.30</td>\n",
              "      <td>-2970.00</td>\n",
              "      <td>31</td>\n",
              "      <td>188</td>\n",
              "      <td>2599</td>\n",
              "      <td>3</td>\n",
              "    </tr>\n",
              "    <tr>\n",
              "      <th>11995</th>\n",
              "      <td>26761.00</td>\n",
              "      <td>-2776.53</td>\n",
              "      <td>87</td>\n",
              "      <td>156</td>\n",
              "      <td>1521</td>\n",
              "      <td>4</td>\n",
              "    </tr>\n",
              "    <tr>\n",
              "      <th>11996</th>\n",
              "      <td>36737.00</td>\n",
              "      <td>555.00</td>\n",
              "      <td>60</td>\n",
              "      <td>234</td>\n",
              "      <td>1581</td>\n",
              "      <td>2</td>\n",
              "    </tr>\n",
              "    <tr>\n",
              "      <th>11997</th>\n",
              "      <td>39610.60</td>\n",
              "      <td>-3110.00</td>\n",
              "      <td>17</td>\n",
              "      <td>196</td>\n",
              "      <td>1885</td>\n",
              "      <td>3</td>\n",
              "    </tr>\n",
              "    <tr>\n",
              "      <th>11998</th>\n",
              "      <td>280014.00</td>\n",
              "      <td>-9684.44</td>\n",
              "      <td>68</td>\n",
              "      <td>468</td>\n",
              "      <td>9276</td>\n",
              "      <td>5</td>\n",
              "    </tr>\n",
              "  </tbody>\n",
              "</table>\n",
              "<p>10950 rows × 6 columns</p>\n",
              "</div>"
            ],
            "text/plain": [
              "              SL      EEG  BP   HR  CIRCULATION  ACTIVITY\n",
              "0        4019.64 -1600.00  13   79          317         3\n",
              "3        9545.98 -2848.93  26  138          554         4\n",
              "4       14148.80 -2381.15  85  120          809         4\n",
              "5        7336.79 -1699.80  22   95          427         5\n",
              "6       24949.90 -3198.06  35  157         1519         3\n",
              "...          ...      ...  ..  ...          ...       ...\n",
              "11994   52550.30 -2970.00  31  188         2599         3\n",
              "11995   26761.00 -2776.53  87  156         1521         4\n",
              "11996   36737.00   555.00  60  234         1581         2\n",
              "11997   39610.60 -3110.00  17  196         1885         3\n",
              "11998  280014.00 -9684.44  68  468         9276         5\n",
              "\n",
              "[10950 rows x 6 columns]"
            ]
          },
          "metadata": {
            "tags": []
          },
          "execution_count": 15
        }
      ]
    },
    {
      "cell_type": "markdown",
      "metadata": {
        "id": "gnhInnr9scWO"
      },
      "source": [
        "Entre los que estan corriendo cual es la media de EEG."
      ]
    },
    {
      "cell_type": "code",
      "metadata": {
        "colab": {
          "base_uri": "https://localhost:8080/"
        },
        "id": "z4O_NdxGsc2M",
        "outputId": "bce2a117-a829-4c3f-cb1b-06142b61737f"
      },
      "source": [
        "ab = df_train[(df_train['ACTIVITY'] == 5)]\n",
        "ab['EEG'].mean()"
      ],
      "execution_count": 18,
      "outputs": [
        {
          "output_type": "execute_result",
          "data": {
            "text/plain": [
              "-35512.76883972598"
            ]
          },
          "metadata": {
            "tags": []
          },
          "execution_count": 18
        }
      ]
    },
    {
      "cell_type": "markdown",
      "metadata": {
        "id": "udh5jfwYusEY"
      },
      "source": [
        "¿Cuál es la desviación tipica de la circulación?"
      ]
    },
    {
      "cell_type": "code",
      "metadata": {
        "colab": {
          "base_uri": "https://localhost:8080/"
        },
        "id": "IO-EBd1_v1bc",
        "outputId": "be3e1a01-2b62-4083-8ee0-3cae9f667ed9"
      },
      "source": [
        "df_train['CIRCULATION'].std()"
      ],
      "execution_count": 17,
      "outputs": [
        {
          "output_type": "execute_result",
          "data": {
            "text/plain": [
              "3789.8221231198795"
            ]
          },
          "metadata": {
            "tags": []
          },
          "execution_count": 17
        }
      ]
    },
    {
      "cell_type": "markdown",
      "metadata": {
        "id": "MsLvISj7woEi"
      },
      "source": [
        "Utiliza una tabla de contingencia para averiguar que personas estan sentados (2) y además tienen un BP mayor a la media."
      ]
    },
    {
      "cell_type": "code",
      "metadata": {
        "colab": {
          "base_uri": "https://localhost:8080/",
          "height": 450
        },
        "id": "Ji2tgzLawoey",
        "outputId": "2c5b6667-70e1-43a4-91da-de56cc71d0d3"
      },
      "source": [
        "b = df_train['BP'].mean()\n",
        "ab = df_train[(df_train['BP'] > b)]\n",
        "ac = df_train[(df_train['ACTIVITY'] == 2)]\n",
        "pd.crosstab(ac['BP'],ab['ACTIVITY'])"
      ],
      "execution_count": 20,
      "outputs": [
        {
          "output_type": "execute_result",
          "data": {
            "text/html": [
              "<div>\n",
              "<style scoped>\n",
              "    .dataframe tbody tr th:only-of-type {\n",
              "        vertical-align: middle;\n",
              "    }\n",
              "\n",
              "    .dataframe tbody tr th {\n",
              "        vertical-align: top;\n",
              "    }\n",
              "\n",
              "    .dataframe thead th {\n",
              "        text-align: right;\n",
              "    }\n",
              "</style>\n",
              "<table border=\"1\" class=\"dataframe\">\n",
              "  <thead>\n",
              "    <tr style=\"text-align: right;\">\n",
              "      <th>ACTIVITY</th>\n",
              "      <th>2</th>\n",
              "    </tr>\n",
              "    <tr>\n",
              "      <th>BP</th>\n",
              "      <th></th>\n",
              "    </tr>\n",
              "  </thead>\n",
              "  <tbody>\n",
              "    <tr>\n",
              "      <th>59</th>\n",
              "      <td>8</td>\n",
              "    </tr>\n",
              "    <tr>\n",
              "      <th>60</th>\n",
              "      <td>7</td>\n",
              "    </tr>\n",
              "    <tr>\n",
              "      <th>61</th>\n",
              "      <td>12</td>\n",
              "    </tr>\n",
              "    <tr>\n",
              "      <th>62</th>\n",
              "      <td>6</td>\n",
              "    </tr>\n",
              "    <tr>\n",
              "      <th>63</th>\n",
              "      <td>11</td>\n",
              "    </tr>\n",
              "    <tr>\n",
              "      <th>...</th>\n",
              "      <td>...</td>\n",
              "    </tr>\n",
              "    <tr>\n",
              "      <th>161</th>\n",
              "      <td>3</td>\n",
              "    </tr>\n",
              "    <tr>\n",
              "      <th>162</th>\n",
              "      <td>1</td>\n",
              "    </tr>\n",
              "    <tr>\n",
              "      <th>163</th>\n",
              "      <td>3</td>\n",
              "    </tr>\n",
              "    <tr>\n",
              "      <th>164</th>\n",
              "      <td>1</td>\n",
              "    </tr>\n",
              "    <tr>\n",
              "      <th>166</th>\n",
              "      <td>1</td>\n",
              "    </tr>\n",
              "  </tbody>\n",
              "</table>\n",
              "<p>95 rows × 1 columns</p>\n",
              "</div>"
            ],
            "text/plain": [
              "ACTIVITY   2\n",
              "BP          \n",
              "59         8\n",
              "60         7\n",
              "61        12\n",
              "62         6\n",
              "63        11\n",
              "..        ..\n",
              "161        3\n",
              "162        1\n",
              "163        3\n",
              "164        1\n",
              "166        1\n",
              "\n",
              "[95 rows x 1 columns]"
            ]
          },
          "metadata": {
            "tags": []
          },
          "execution_count": 20
        }
      ]
    }
  ]
}